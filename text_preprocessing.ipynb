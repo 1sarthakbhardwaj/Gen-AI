{
  "nbformat": 4,
  "nbformat_minor": 0,
  "metadata": {
    "colab": {
      "provenance": [],
      "authorship_tag": "ABX9TyMGktDAxLW1S+InLHS4ZprX",
      "include_colab_link": true
    },
    "kernelspec": {
      "name": "python3",
      "display_name": "Python 3"
    },
    "language_info": {
      "name": "python"
    }
  },
  "cells": [
    {
      "cell_type": "markdown",
      "metadata": {
        "id": "view-in-github",
        "colab_type": "text"
      },
      "source": [
        "<a href=\"https://colab.research.google.com/github/1sarthakbhardwaj/Gen-AI/blob/main/text_preprocessing.ipynb\" target=\"_parent\"><img src=\"https://colab.research.google.com/assets/colab-badge.svg\" alt=\"Open In Colab\"/></a>"
      ]
    },
    {
      "cell_type": "code",
      "execution_count": 1,
      "metadata": {
        "colab": {
          "base_uri": "https://localhost:8080/"
        },
        "id": "DZBPmLEmpmkK",
        "outputId": "419e204d-9fe1-4920-8d4c-6e4ea6a31a73"
      },
      "outputs": [
        {
          "output_type": "stream",
          "name": "stdout",
          "text": [
            "Requirement already satisfied: nltk in /usr/local/lib/python3.10/dist-packages (3.8.1)\n",
            "Requirement already satisfied: click in /usr/local/lib/python3.10/dist-packages (from nltk) (8.1.7)\n",
            "Requirement already satisfied: joblib in /usr/local/lib/python3.10/dist-packages (from nltk) (1.3.2)\n",
            "Requirement already satisfied: regex>=2021.8.3 in /usr/local/lib/python3.10/dist-packages (from nltk) (2023.12.25)\n",
            "Requirement already satisfied: tqdm in /usr/local/lib/python3.10/dist-packages (from nltk) (4.66.2)\n"
          ]
        }
      ],
      "source": [
        "!pip install nltk"
      ]
    },
    {
      "cell_type": "code",
      "source": [
        "paragraph = \"\"\"\n",
        "Abdul Rashid Salim Salman Khan (pronounced [səlˈmɑːn xɑːn]; born 27 December 1965)[3] is an Indian actor, film producer, and television personality who works predominantly in Hindi films. In a career spanning over three decades, Khan has received numerous awards, including two National Film Awards as a film producer, and a Filmfare Award as an actor.[4] He is cited in the media as one of the most commercially successful actors of Indian cinema.[5][6] Forbes has included Khan in listings of the highest-paid celebrities in the world, in 2015 and 2018, with him being the highest-ranked Indian in the latter year.[7][8][9][10] Khan has starred in the annual highest-grossing Hindi film of 10 individual years, the highest for any actor.[11]\n",
        "\n",
        "Khan began his acting career with a supporting role in Biwi Ho To Aisi (1988), followed by his breakthrough with a leading role in Sooraj Barjatya's romance Maine Pyar Kiya (1989). He established himself in the 1990s, with several commercially successful films, including Barjatya's family dramas Hum Aapke Hain Koun..! (1994) and Hum Saath-Saath Hain (1999), the action film Karan Arjun (1995) and the comedy Biwi No.1 (1999). After a period of fluctuations in the 2000s, Khan achieved greater stardom in the 2010s by starring in the top-grossing action films Dabangg (2010), Ready (2011), Bodyguard (2011), Ek Tha Tiger (2012), Dabangg 2 (2012), Kick (2014), and Tiger Zinda Hai (2017), and dramas such as Bajrangi Bhaijaan (2015) and Sultan (2016). This was followed by a series of poorly-received films, with the exception of the sequel Tiger 3 (2023).\n",
        "\n",
        "In addition to his acting career, Khan is a television presenter and promotes humanitarian causes through his charity, Being Human Foundation.[12] He has been hosting the reality show Bigg Boss since 2010.[13] Khan's off-screen life is marred by controversy and legal troubles. In 2015, he was convicted of culpable homicide for a negligent driving case in which he ran over five people with his car, killing one, but his conviction was set aside on appeal.[14][15][16][17] On 5 April 2018, Khan was convicted in a blackbuck poaching case and sentenced to five years imprisonment.[18][19] He is currently out on bail while an appeal is being heard.[20]\n",
        "\"\"\""
      ],
      "metadata": {
        "id": "Fj7bINbEp8_A"
      },
      "execution_count": 3,
      "outputs": []
    },
    {
      "cell_type": "code",
      "source": [
        "paragraph\n"
      ],
      "metadata": {
        "colab": {
          "base_uri": "https://localhost:8080/",
          "height": 192
        },
        "id": "Z48Lg14oqpB0",
        "outputId": "e41ac7d0-8353-46cd-f245-285127c5d9c0"
      },
      "execution_count": 4,
      "outputs": [
        {
          "output_type": "execute_result",
          "data": {
            "text/plain": [
              "\"\\nAbdul Rashid Salim Salman Khan (pronounced [səlˈmɑːn xɑːn]; born 27 December 1965)[3] is an Indian actor, film producer, and television personality who works predominantly in Hindi films. In a career spanning over three decades, Khan has received numerous awards, including two National Film Awards as a film producer, and a Filmfare Award as an actor.[4] He is cited in the media as one of the most commercially successful actors of Indian cinema.[5][6] Forbes has included Khan in listings of the highest-paid celebrities in the world, in 2015 and 2018, with him being the highest-ranked Indian in the latter year.[7][8][9][10] Khan has starred in the annual highest-grossing Hindi film of 10 individual years, the highest for any actor.[11]\\n\\nKhan began his acting career with a supporting role in Biwi Ho To Aisi (1988), followed by his breakthrough with a leading role in Sooraj Barjatya's romance Maine Pyar Kiya (1989). He established himself in the 1990s, with several commercially successful films, including Barjatya's family dramas Hum Aapke Hain Koun..! (1994) and Hum Saath-Saath Hain (1999), the action film Karan Arjun (1995) and the comedy Biwi No.1 (1999). After a period of fluctuations in the 2000s, Khan achieved greater stardom in the 2010s by starring in the top-grossing action films Dabangg (2010), Ready (2011), Bodyguard (2011), Ek Tha Tiger (2012), Dabangg 2 (2012), Kick (2014), and Tiger Zinda Hai (2017), and dramas such as Bajrangi Bhaijaan (2015) and Sultan (2016). This was followed by a series of poorly-received films, with the exception of the sequel Tiger 3 (2023).\\n\\nIn addition to his acting career, Khan is a television presenter and promotes humanitarian causes through his charity, Being Human Foundation.[12] He has been hosting the reality show Bigg Boss since 2010.[13] Khan's off-screen life is marred by controversy and legal troubles. In 2015, he was convicted of culpable homicide for a negligent driving case in which he ran over five people with his car, killing one, but his conviction was set aside on appeal.[14][15][16][17] On 5 April 2018, Khan was convicted in a blackbuck poaching case and sentenced to five years imprisonment.[18][19] He is currently out on bail while an appeal is being heard.[20]\\n\""
            ],
            "application/vnd.google.colaboratory.intrinsic+json": {
              "type": "string"
            }
          },
          "metadata": {},
          "execution_count": 4
        }
      ]
    },
    {
      "cell_type": "code",
      "source": [
        "import nltk\n",
        "from nltk.stem import PorterStemmer\n",
        "from nltk.corpus import stopwords"
      ],
      "metadata": {
        "id": "zxVrJrhJrhlD"
      },
      "execution_count": 6,
      "outputs": []
    },
    {
      "cell_type": "code",
      "source": [
        "# tokenization -  coverts para into sentense words\n",
        "\n",
        "nltk.download('punkt')"
      ],
      "metadata": {
        "colab": {
          "base_uri": "https://localhost:8080/"
        },
        "id": "SsZqMugzr0Vs",
        "outputId": "16bb4e2d-2d79-4325-ee5d-a155c12b6aaf"
      },
      "execution_count": 8,
      "outputs": [
        {
          "output_type": "stream",
          "name": "stderr",
          "text": [
            "[nltk_data] Downloading package punkt to /root/nltk_data...\n",
            "[nltk_data]   Unzipping tokenizers/punkt.zip.\n"
          ]
        },
        {
          "output_type": "execute_result",
          "data": {
            "text/plain": [
              "True"
            ]
          },
          "metadata": {},
          "execution_count": 8
        }
      ]
    },
    {
      "cell_type": "code",
      "source": [
        "sentense = nltk.sent_tokenize(paragraph)"
      ],
      "metadata": {
        "id": "Qii42_1Kr8sC"
      },
      "execution_count": 9,
      "outputs": []
    },
    {
      "cell_type": "code",
      "source": [
        "print(sentense)\n"
      ],
      "metadata": {
        "colab": {
          "base_uri": "https://localhost:8080/"
        },
        "id": "Z_e57w1QsVac",
        "outputId": "0efaf103-4035-4b11-ccd6-111920330640"
      },
      "execution_count": 10,
      "outputs": [
        {
          "output_type": "stream",
          "name": "stdout",
          "text": [
            "['\\nAbdul Rashid Salim Salman Khan (pronounced [səlˈmɑːn xɑːn]; born 27 December 1965)[3] is an Indian actor, film producer, and television personality who works predominantly in Hindi films.', 'In a career spanning over three decades, Khan has received numerous awards, including two National Film Awards as a film producer, and a Filmfare Award as an actor.', '[4] He is cited in the media as one of the most commercially successful actors of Indian cinema.', '[5][6] Forbes has included Khan in listings of the highest-paid celebrities in the world, in 2015 and 2018, with him being the highest-ranked Indian in the latter year.', '[7][8][9][10] Khan has starred in the annual highest-grossing Hindi film of 10 individual years, the highest for any actor.', \"[11]\\n\\nKhan began his acting career with a supporting role in Biwi Ho To Aisi (1988), followed by his breakthrough with a leading role in Sooraj Barjatya's romance Maine Pyar Kiya (1989).\", \"He established himself in the 1990s, with several commercially successful films, including Barjatya's family dramas Hum Aapke Hain Koun..!\", '(1994) and Hum Saath-Saath Hain (1999), the action film Karan Arjun (1995) and the comedy Biwi No.1 (1999).', 'After a period of fluctuations in the 2000s, Khan achieved greater stardom in the 2010s by starring in the top-grossing action films Dabangg (2010), Ready (2011), Bodyguard (2011), Ek Tha Tiger (2012), Dabangg 2 (2012), Kick (2014), and Tiger Zinda Hai (2017), and dramas such as Bajrangi Bhaijaan (2015) and Sultan (2016).', 'This was followed by a series of poorly-received films, with the exception of the sequel Tiger 3 (2023).', 'In addition to his acting career, Khan is a television presenter and promotes humanitarian causes through his charity, Being Human Foundation.', '[12] He has been hosting the reality show Bigg Boss since 2010.', \"[13] Khan's off-screen life is marred by controversy and legal troubles.\", 'In 2015, he was convicted of culpable homicide for a negligent driving case in which he ran over five people with his car, killing one, but his conviction was set aside on appeal.', '[14][15][16][17] On 5 April 2018, Khan was convicted in a blackbuck poaching case and sentenced to five years imprisonment.', '[18][19] He is currently out on bail while an appeal is being heard.', '[20]']\n"
          ]
        }
      ]
    },
    {
      "cell_type": "code",
      "source": [
        "type(sentense)"
      ],
      "metadata": {
        "colab": {
          "base_uri": "https://localhost:8080/"
        },
        "id": "oAFqndJ_sYwk",
        "outputId": "1e1ddc1e-b15e-4dd2-d5cc-d6c09921436a"
      },
      "execution_count": 12,
      "outputs": [
        {
          "output_type": "execute_result",
          "data": {
            "text/plain": [
              "list"
            ]
          },
          "metadata": {},
          "execution_count": 12
        }
      ]
    },
    {
      "cell_type": "code",
      "source": [
        "stemmer = PorterStemmer()\n",
        "stemmer.stem('thinkinging')"
      ],
      "metadata": {
        "colab": {
          "base_uri": "https://localhost:8080/",
          "height": 35
        },
        "id": "nAuxb4EJsbLA",
        "outputId": "276f51a8-f44c-4536-82aa-36a23c317191"
      },
      "execution_count": 14,
      "outputs": [
        {
          "output_type": "execute_result",
          "data": {
            "text/plain": [
              "'thinking'"
            ],
            "application/vnd.google.colaboratory.intrinsic+json": {
              "type": "string"
            }
          },
          "metadata": {},
          "execution_count": 14
        }
      ]
    },
    {
      "cell_type": "code",
      "source": [
        " from nltk.stem import WordNetLemmatizer\n",
        " nltk.download('wordnet')"
      ],
      "metadata": {
        "colab": {
          "base_uri": "https://localhost:8080/"
        },
        "id": "GQjLUMICsyO0",
        "outputId": "4b7144ed-fe4a-480c-9681-6a4bd061bf4e"
      },
      "execution_count": 22,
      "outputs": [
        {
          "output_type": "stream",
          "name": "stderr",
          "text": [
            "[nltk_data] Downloading package wordnet to /root/nltk_data...\n"
          ]
        },
        {
          "output_type": "execute_result",
          "data": {
            "text/plain": [
              "True"
            ]
          },
          "metadata": {},
          "execution_count": 22
        }
      ]
    },
    {
      "cell_type": "code",
      "source": [
        "lemmatizer = WordNetLemmatizer()"
      ],
      "metadata": {
        "id": "wFXOLdUPuBFC"
      },
      "execution_count": 23,
      "outputs": []
    },
    {
      "cell_type": "code",
      "source": [
        "lemmatizer.lemmatize('going')"
      ],
      "metadata": {
        "colab": {
          "base_uri": "https://localhost:8080/",
          "height": 35
        },
        "id": "47qUOjAWuGAk",
        "outputId": "9e7c60be-ac08-4f60-c638-236889c48b5f"
      },
      "execution_count": 24,
      "outputs": [
        {
          "output_type": "execute_result",
          "data": {
            "text/plain": [
              "'going'"
            ],
            "application/vnd.google.colaboratory.intrinsic+json": {
              "type": "string"
            }
          },
          "metadata": {},
          "execution_count": 24
        }
      ]
    },
    {
      "cell_type": "code",
      "source": [
        "len(sentense)"
      ],
      "metadata": {
        "colab": {
          "base_uri": "https://localhost:8080/"
        },
        "id": "p53-3ySTuLhG",
        "outputId": "9f6745c3-3928-4528-c92d-6d380417d214"
      },
      "execution_count": 25,
      "outputs": [
        {
          "output_type": "execute_result",
          "data": {
            "text/plain": [
              "17"
            ]
          },
          "metadata": {},
          "execution_count": 25
        }
      ]
    },
    {
      "cell_type": "code",
      "source": [
        "import re\n",
        "corpus = []\n",
        "for i in range(len(sentense)):\n",
        "  review= re.sub('[^a-zA-Z]',' ', sentense[i])\n",
        "  review = review.lower()\n",
        "  corpus.append (review)"
      ],
      "metadata": {
        "id": "xOBcPXTavcyh"
      },
      "execution_count": 28,
      "outputs": []
    },
    {
      "cell_type": "code",
      "source": [
        "corpus"
      ],
      "metadata": {
        "colab": {
          "base_uri": "https://localhost:8080/"
        },
        "id": "US2hBKbCwlFq",
        "outputId": "fb849fd6-a569-4dbf-e054-e6a5ebdded1f"
      },
      "execution_count": 29,
      "outputs": [
        {
          "output_type": "execute_result",
          "data": {
            "text/plain": [
              "[' abdul rashid salim salman khan  pronounced  s l m  n x  n   born    december          is an indian actor  film producer  and television personality who works predominantly in hindi films ',\n",
              " 'in a career spanning over three decades  khan has received numerous awards  including two national film awards as a film producer  and a filmfare award as an actor ',\n",
              " '    he is cited in the media as one of the most commercially successful actors of indian cinema ',\n",
              " '       forbes has included khan in listings of the highest paid celebrities in the world  in      and       with him being the highest ranked indian in the latter year ',\n",
              " '              khan has starred in the annual highest grossing hindi film of    individual years  the highest for any actor ',\n",
              " '      khan began his acting career with a supporting role in biwi ho to aisi         followed by his breakthrough with a leading role in sooraj barjatya s romance maine pyar kiya        ',\n",
              " 'he established himself in the     s  with several commercially successful films  including barjatya s family dramas hum aapke hain koun   ',\n",
              " '       and hum saath saath hain         the action film karan arjun        and the comedy biwi no          ',\n",
              " 'after a period of fluctuations in the     s  khan achieved greater stardom in the     s by starring in the top grossing action films dabangg         ready         bodyguard         ek tha tiger         dabangg           kick         and tiger zinda hai         and dramas such as bajrangi bhaijaan        and sultan        ',\n",
              " 'this was followed by a series of poorly received films  with the exception of the sequel tiger          ',\n",
              " 'in addition to his acting career  khan is a television presenter and promotes humanitarian causes through his charity  being human foundation ',\n",
              " '     he has been hosting the reality show bigg boss since      ',\n",
              " '     khan s off screen life is marred by controversy and legal troubles ',\n",
              " 'in       he was convicted of culpable homicide for a negligent driving case in which he ran over five people with his car  killing one  but his conviction was set aside on appeal ',\n",
              " '                 on   april       khan was convicted in a blackbuck poaching case and sentenced to five years imprisonment ',\n",
              " '         he is currently out on bail while an appeal is being heard ',\n",
              " '    ']"
            ]
          },
          "metadata": {},
          "execution_count": 29
        }
      ]
    },
    {
      "cell_type": "code",
      "source": [
        "## stemming\n",
        "nltk.download('stopwords')\n",
        "for i in corpus:\n",
        "  words = nltk.word_tokenize(i)\n",
        "  for word in words:\n",
        "    if word not in set(stopwords.words('english')):\n",
        "      print(stemmer.stem(word))"
      ],
      "metadata": {
        "colab": {
          "base_uri": "https://localhost:8080/"
        },
        "id": "ej9eGlutwydw",
        "outputId": "72df430d-c990-4090-d748-81e24d1d6a93"
      },
      "execution_count": 32,
      "outputs": [
        {
          "output_type": "stream",
          "name": "stderr",
          "text": [
            "[nltk_data] Downloading package stopwords to /root/nltk_data...\n",
            "[nltk_data]   Unzipping corpora/stopwords.zip.\n"
          ]
        },
        {
          "output_type": "stream",
          "name": "stdout",
          "text": [
            "abdul\n",
            "rashid\n",
            "salim\n",
            "salman\n",
            "khan\n",
            "pronounc\n",
            "l\n",
            "n\n",
            "x\n",
            "n\n",
            "born\n",
            "decemb\n",
            "indian\n",
            "actor\n",
            "film\n",
            "produc\n",
            "televis\n",
            "person\n",
            "work\n",
            "predominantli\n",
            "hindi\n",
            "film\n",
            "career\n",
            "span\n",
            "three\n",
            "decad\n",
            "khan\n",
            "receiv\n",
            "numer\n",
            "award\n",
            "includ\n",
            "two\n",
            "nation\n",
            "film\n",
            "award\n",
            "film\n",
            "produc\n",
            "filmfar\n",
            "award\n",
            "actor\n",
            "cite\n",
            "media\n",
            "one\n",
            "commerci\n",
            "success\n",
            "actor\n",
            "indian\n",
            "cinema\n",
            "forb\n",
            "includ\n",
            "khan\n",
            "list\n",
            "highest\n",
            "paid\n",
            "celebr\n",
            "world\n",
            "highest\n",
            "rank\n",
            "indian\n",
            "latter\n",
            "year\n",
            "khan\n",
            "star\n",
            "annual\n",
            "highest\n",
            "gross\n",
            "hindi\n",
            "film\n",
            "individu\n",
            "year\n",
            "highest\n",
            "actor\n",
            "khan\n",
            "began\n",
            "act\n",
            "career\n",
            "support\n",
            "role\n",
            "biwi\n",
            "ho\n",
            "aisi\n",
            "follow\n",
            "breakthrough\n",
            "lead\n",
            "role\n",
            "sooraj\n",
            "barjatya\n",
            "romanc\n",
            "main\n",
            "pyar\n",
            "kiya\n",
            "establish\n",
            "sever\n",
            "commerci\n",
            "success\n",
            "film\n",
            "includ\n",
            "barjatya\n",
            "famili\n",
            "drama\n",
            "hum\n",
            "aapk\n",
            "hain\n",
            "koun\n",
            "hum\n",
            "saath\n",
            "saath\n",
            "hain\n",
            "action\n",
            "film\n",
            "karan\n",
            "arjun\n",
            "comedi\n",
            "biwi\n",
            "period\n",
            "fluctuat\n",
            "khan\n",
            "achiev\n",
            "greater\n",
            "stardom\n",
            "star\n",
            "top\n",
            "gross\n",
            "action\n",
            "film\n",
            "dabangg\n",
            "readi\n",
            "bodyguard\n",
            "ek\n",
            "tha\n",
            "tiger\n",
            "dabangg\n",
            "kick\n",
            "tiger\n",
            "zinda\n",
            "hai\n",
            "drama\n",
            "bajrangi\n",
            "bhaijaan\n",
            "sultan\n",
            "follow\n",
            "seri\n",
            "poorli\n",
            "receiv\n",
            "film\n",
            "except\n",
            "sequel\n",
            "tiger\n",
            "addit\n",
            "act\n",
            "career\n",
            "khan\n",
            "televis\n",
            "present\n",
            "promot\n",
            "humanitarian\n",
            "caus\n",
            "chariti\n",
            "human\n",
            "foundat\n",
            "host\n",
            "realiti\n",
            "show\n",
            "bigg\n",
            "boss\n",
            "sinc\n",
            "khan\n",
            "screen\n",
            "life\n",
            "mar\n",
            "controversi\n",
            "legal\n",
            "troubl\n",
            "convict\n",
            "culpabl\n",
            "homicid\n",
            "neglig\n",
            "drive\n",
            "case\n",
            "ran\n",
            "five\n",
            "peopl\n",
            "car\n",
            "kill\n",
            "one\n",
            "convict\n",
            "set\n",
            "asid\n",
            "appeal\n",
            "april\n",
            "khan\n",
            "convict\n",
            "blackbuck\n",
            "poach\n",
            "case\n",
            "sentenc\n",
            "five\n",
            "year\n",
            "imprison\n",
            "current\n",
            "bail\n",
            "appeal\n",
            "heard\n"
          ]
        }
      ]
    },
    {
      "cell_type": "code",
      "source": [
        "for i in corpus:\n",
        "  words = nltk.word_tokenize(i)\n",
        "  for word in words:\n",
        "    if word not in set(stopwords.words('english')):\n",
        "      print(lemmatizer.lemmatize(word))"
      ],
      "metadata": {
        "colab": {
          "base_uri": "https://localhost:8080/"
        },
        "id": "VYQT7-irxak3",
        "outputId": "900d668c-8d51-4964-b083-7a6b4a22230e"
      },
      "execution_count": 36,
      "outputs": [
        {
          "output_type": "stream",
          "name": "stdout",
          "text": [
            "abdul\n",
            "rashid\n",
            "salim\n",
            "salman\n",
            "khan\n",
            "pronounced\n",
            "l\n",
            "n\n",
            "x\n",
            "n\n",
            "born\n",
            "december\n",
            "indian\n",
            "actor\n",
            "film\n",
            "producer\n",
            "television\n",
            "personality\n",
            "work\n",
            "predominantly\n",
            "hindi\n",
            "film\n",
            "career\n",
            "spanning\n",
            "three\n",
            "decade\n",
            "khan\n",
            "received\n",
            "numerous\n",
            "award\n",
            "including\n",
            "two\n",
            "national\n",
            "film\n",
            "award\n",
            "film\n",
            "producer\n",
            "filmfare\n",
            "award\n",
            "actor\n",
            "cited\n",
            "medium\n",
            "one\n",
            "commercially\n",
            "successful\n",
            "actor\n",
            "indian\n",
            "cinema\n",
            "forbes\n",
            "included\n",
            "khan\n",
            "listing\n",
            "highest\n",
            "paid\n",
            "celebrity\n",
            "world\n",
            "highest\n",
            "ranked\n",
            "indian\n",
            "latter\n",
            "year\n",
            "khan\n",
            "starred\n",
            "annual\n",
            "highest\n",
            "grossing\n",
            "hindi\n",
            "film\n",
            "individual\n",
            "year\n",
            "highest\n",
            "actor\n",
            "khan\n",
            "began\n",
            "acting\n",
            "career\n",
            "supporting\n",
            "role\n",
            "biwi\n",
            "ho\n",
            "aisi\n",
            "followed\n",
            "breakthrough\n",
            "leading\n",
            "role\n",
            "sooraj\n",
            "barjatya\n",
            "romance\n",
            "maine\n",
            "pyar\n",
            "kiya\n",
            "established\n",
            "several\n",
            "commercially\n",
            "successful\n",
            "film\n",
            "including\n",
            "barjatya\n",
            "family\n",
            "drama\n",
            "hum\n",
            "aapke\n",
            "hain\n",
            "koun\n",
            "hum\n",
            "saath\n",
            "saath\n",
            "hain\n",
            "action\n",
            "film\n",
            "karan\n",
            "arjun\n",
            "comedy\n",
            "biwi\n",
            "period\n",
            "fluctuation\n",
            "khan\n",
            "achieved\n",
            "greater\n",
            "stardom\n",
            "starring\n",
            "top\n",
            "grossing\n",
            "action\n",
            "film\n",
            "dabangg\n",
            "ready\n",
            "bodyguard\n",
            "ek\n",
            "tha\n",
            "tiger\n",
            "dabangg\n",
            "kick\n",
            "tiger\n",
            "zinda\n",
            "hai\n",
            "drama\n",
            "bajrangi\n",
            "bhaijaan\n",
            "sultan\n",
            "followed\n",
            "series\n",
            "poorly\n",
            "received\n",
            "film\n",
            "exception\n",
            "sequel\n",
            "tiger\n",
            "addition\n",
            "acting\n",
            "career\n",
            "khan\n",
            "television\n",
            "presenter\n",
            "promotes\n",
            "humanitarian\n",
            "cause\n",
            "charity\n",
            "human\n",
            "foundation\n",
            "hosting\n",
            "reality\n",
            "show\n",
            "bigg\n",
            "bos\n",
            "since\n",
            "khan\n",
            "screen\n",
            "life\n",
            "marred\n",
            "controversy\n",
            "legal\n",
            "trouble\n",
            "convicted\n",
            "culpable\n",
            "homicide\n",
            "negligent\n",
            "driving\n",
            "case\n",
            "ran\n",
            "five\n",
            "people\n",
            "car\n",
            "killing\n",
            "one\n",
            "conviction\n",
            "set\n",
            "aside\n",
            "appeal\n",
            "april\n",
            "khan\n",
            "convicted\n",
            "blackbuck\n",
            "poaching\n",
            "case\n",
            "sentenced\n",
            "five\n",
            "year\n",
            "imprisonment\n",
            "currently\n",
            "bail\n",
            "appeal\n",
            "heard\n"
          ]
        }
      ]
    },
    {
      "cell_type": "code",
      "source": [],
      "metadata": {
        "id": "j6_urHA8yHRN"
      },
      "execution_count": null,
      "outputs": []
    }
  ]
}